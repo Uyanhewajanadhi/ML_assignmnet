{
  "nbformat": 4,
  "nbformat_minor": 0,
  "metadata": {
    "colab": {
      "name": "18000088.ipynb",
      "provenance": [],
      "collapsed_sections": [],
      "authorship_tag": "ABX9TyNWK7PJjOxjV/fKvyAVa4sk",
      "include_colab_link": true
    },
    "kernelspec": {
      "name": "python3",
      "display_name": "Python 3"
    },
    "language_info": {
      "name": "python"
    }
  },
  "cells": [
    {
      "cell_type": "markdown",
      "metadata": {
        "id": "view-in-github",
        "colab_type": "text"
      },
      "source": [
        "<a href=\"https://colab.research.google.com/github/Uyanhewajanadhi/ML_assignmnet/blob/main/18000088.ipynb\" target=\"_parent\"><img src=\"https://colab.research.google.com/assets/colab-badge.svg\" alt=\"Open In Colab\"/></a>"
      ]
    },
    {
      "cell_type": "markdown",
      "metadata": {
        "id": "WYH_zU2_x60r"
      },
      "source": [
        "***Index Number : 18000088***"
      ]
    },
    {
      "cell_type": "markdown",
      "metadata": {
        "id": "UgjpYi70xgjo"
      },
      "source": [
        "***Assignment 1_Multivariate Linear Regression.***"
      ]
    },
    {
      "cell_type": "markdown",
      "metadata": {
        "id": "a3tjaGpiZ58-"
      },
      "source": [
        "Multivariate Linear Regression Assignmnet - 18000088"
      ]
    },
    {
      "cell_type": "code",
      "metadata": {
        "id": "KvmQgQqPLl__"
      },
      "source": [
        "%matplotlib inline\n",
        "import pandas as pd\n",
        "import numpy as np\n",
        "import matplotlib.pyplot as plt\n",
        "import random\n",
        "from IPython.display import HTML"
      ],
      "execution_count": null,
      "outputs": []
    },
    {
      "cell_type": "markdown",
      "metadata": {
        "id": "M4GDQlt5aE0H"
      },
      "source": [
        "Get the data set from GitHub Repo. to Colab"
      ]
    },
    {
      "cell_type": "code",
      "metadata": {
        "id": "Cy5275ZiMChb"
      },
      "source": [
        "#import data set from the github repo\n",
        "data = pd.read_csv('https://raw.githubusercontent.com/Uyanhewajanadhi/ML_assignmnet/main/ENB2012_data_1_.csv', delimiter=',')"
      ],
      "execution_count": null,
      "outputs": []
    },
    {
      "cell_type": "code",
      "metadata": {
        "colab": {
          "base_uri": "https://localhost:8080/"
        },
        "id": "xaLKf9adMFTo",
        "outputId": "dde43a6e-9895-4358-db94-a2b9098603bb"
      },
      "source": [
        "print(data)"
      ],
      "execution_count": null,
      "outputs": [
        {
          "output_type": "stream",
          "text": [
            "       X1     X2     X3      X4   X5  X6   X7  X8     Y1\n",
            "0    0.98  514.5  294.0  110.25  7.0   2  0.0   0  15.55\n",
            "1    0.98  514.5  294.0  110.25  7.0   3  0.0   0  15.55\n",
            "2    0.98  514.5  294.0  110.25  7.0   4  0.0   0  15.55\n",
            "3    0.98  514.5  294.0  110.25  7.0   5  0.0   0  15.55\n",
            "4    0.90  563.5  318.5  122.50  7.0   2  0.0   0  20.84\n",
            "..    ...    ...    ...     ...  ...  ..  ...  ..    ...\n",
            "763  0.64  784.0  343.0  220.50  3.5   5  0.4   5  17.88\n",
            "764  0.62  808.5  367.5  220.50  3.5   2  0.4   5  16.54\n",
            "765  0.62  808.5  367.5  220.50  3.5   3  0.4   5  16.44\n",
            "766  0.62  808.5  367.5  220.50  3.5   4  0.4   5  16.48\n",
            "767  0.62  808.5  367.5  220.50  3.5   5  0.4   5  16.64\n",
            "\n",
            "[768 rows x 9 columns]\n"
          ],
          "name": "stdout"
        }
      ]
    },
    {
      "cell_type": "markdown",
      "metadata": {
        "id": "xWPTRN9KaReB"
      },
      "source": [
        "Standardize the data to be between 0 and 1"
      ]
    },
    {
      "cell_type": "code",
      "metadata": {
        "colab": {
          "base_uri": "https://localhost:8080/"
        },
        "id": "5HCLY38NNjaz",
        "outputId": "5e89ea68-c1d2-4d83-9d75-7b9f7eeedf93"
      },
      "source": [
        "#standardize the data between 0 and 1\n",
        "data_cal = (data - np.min(data)) / (np.max(data) - np.min(data))\n",
        "data_arr = data_cal.values\n",
        "print(data_arr)"
      ],
      "execution_count": null,
      "outputs": [
        {
          "output_type": "stream",
          "text": [
            "[[1.         0.         0.28571429 ... 0.         0.         0.25721219]\n",
            " [1.         0.         0.28571429 ... 0.         0.         0.25721219]\n",
            " [1.         0.         0.28571429 ... 0.         0.         0.25721219]\n",
            " ...\n",
            " [0.         1.         0.71428571 ... 1.         1.         0.28120787]\n",
            " [0.         1.         0.71428571 ... 1.         1.         0.28228633]\n",
            " [0.         1.         0.71428571 ... 1.         1.         0.28660016]]\n"
          ],
          "name": "stdout"
        }
      ]
    },
    {
      "cell_type": "markdown",
      "metadata": {
        "id": "vWYmEwgvaacy"
      },
      "source": [
        "Split the standardized dataset as data and target sets"
      ]
    },
    {
      "cell_type": "code",
      "metadata": {
        "colab": {
          "base_uri": "https://localhost:8080/"
        },
        "id": "hadih3DPNptZ",
        "outputId": "4eb30c2a-ce95-4f43-9043-4abecf234fb8"
      },
      "source": [
        "#split data (x values) and target (y values)\n",
        "data_in= data_arr[:,1:7]\n",
        "target_set = data_arr[:,8]\n",
        "\n",
        "\n",
        "print (data_in, target_set)"
      ],
      "execution_count": null,
      "outputs": [
        {
          "output_type": "stream",
          "text": [
            "[[0.         0.28571429 0.         1.         0.         0.        ]\n",
            " [0.         0.28571429 0.         1.         0.33333333 0.        ]\n",
            " [0.         0.28571429 0.         1.         0.66666667 0.        ]\n",
            " ...\n",
            " [1.         0.71428571 1.         0.         0.33333333 1.        ]\n",
            " [1.         0.71428571 1.         0.         0.66666667 1.        ]\n",
            " [1.         0.71428571 1.         0.         1.         1.        ]] [2.57212187e-01 2.57212187e-01 2.57212187e-01 2.57212187e-01\n",
            " 3.99838231e-01 4.16554327e-01 3.96333243e-01 3.68562955e-01\n",
            " 3.63709895e-01 3.75842545e-01 3.59396064e-01 3.31625775e-01\n",
            " 2.97654354e-01 3.07360475e-01 2.94958210e-01 2.68805608e-01\n",
            " 6.06902130e-01 6.44108924e-01 6.36829334e-01 6.13103262e-01\n",
            " 5.05796711e-01 4.83149097e-01 5.05796711e-01 4.83149097e-01\n",
            " 1.61768671e-03 1.07845781e-03 0.00000000e+00 8.08843354e-04\n",
            " 9.70612025e-03 1.05149636e-02 9.59827447e-03 1.05149636e-02\n",
            " 2.26476139e-02 2.10299272e-02 2.04906983e-02 2.15691561e-02\n",
            " 3.15448908e-02 2.93879752e-02 2.93879752e-02 2.93879752e-02\n",
            " 1.30493394e-01 1.22135346e-01 1.28336479e-01 1.22674575e-01\n",
            " 6.98301429e-02 6.68643839e-02 6.57859261e-02 6.71339984e-02\n",
            " 5.00674036e-01 5.02022108e-01 5.02022108e-01 5.00943651e-01\n",
            " 6.20652467e-01 6.43300081e-01 6.23618226e-01 5.95308709e-01\n",
            " 5.46508493e-01 5.63494203e-01 5.48935023e-01 5.19277433e-01\n",
            " 4.72364519e-01 4.85845241e-01 4.72634133e-01 4.46751146e-01\n",
            " 7.96710704e-01 8.38770558e-01 8.32839040e-01 8.06956053e-01\n",
            " 7.26610946e-01 7.03963332e-01 7.26071717e-01 7.06389862e-01\n",
            " 1.17282286e-01 1.19169587e-01 1.17282286e-01 1.18091130e-01\n",
            " 1.26718792e-01 1.29145322e-01 1.26449178e-01 1.27797250e-01\n",
            " 1.37503370e-01 1.38042599e-01 1.36964141e-01 1.38851442e-01\n",
            " 1.52871394e-01 1.53141008e-01 1.53410623e-01 1.53141008e-01\n",
            " 2.53437584e-01 2.47775681e-01 2.53707199e-01 2.48045295e-01\n",
            " 1.87382044e-01 1.87651658e-01 1.86573200e-01 1.88999730e-01\n",
            " 4.92855217e-01 4.93394446e-01 4.88541386e-01 4.91776759e-01\n",
            " 6.16608250e-01 6.38177406e-01 6.15260178e-01 5.90186034e-01\n",
            " 5.51900782e-01 5.66459962e-01 5.47856565e-01 5.21703963e-01\n",
            " 4.78296037e-01 4.91237530e-01 4.76139121e-01 4.52413049e-01\n",
            " 7.99137234e-01 8.42545160e-01 8.34726341e-01 8.09382583e-01\n",
            " 7.32003235e-01 7.11512537e-01 7.30924778e-01 7.11782152e-01\n",
            " 1.18899973e-01 1.19978431e-01 1.16203829e-01 1.19708816e-01\n",
            " 1.24831491e-01 1.26988407e-01 1.22404961e-01 1.25909949e-01\n",
            " 1.46670262e-01 1.46939876e-01 1.43165274e-01 1.47748719e-01\n",
            " 1.46670262e-01 1.45861418e-01 1.43434888e-01 1.46131033e-01\n",
            " 2.53437584e-01 2.47236452e-01 2.51550283e-01 2.47506066e-01\n",
            " 1.85225128e-01 1.88460501e-01 1.87651658e-01 1.89538959e-01\n",
            " 4.92585603e-01 4.95820976e-01 4.88002157e-01 4.94472904e-01\n",
            " 5.94769480e-01 6.20113238e-01 6.36559720e-01 6.21191696e-01\n",
            " 5.23052036e-01 5.51631167e-01 5.62954974e-01 5.51361553e-01\n",
            " 4.56187652e-01 4.80722567e-01 4.89619844e-01 4.81531410e-01\n",
            " 8.02642222e-01 7.94553788e-01 8.34726341e-01 8.27446751e-01\n",
            " 7.14747910e-01 7.35238609e-01 7.09625236e-01 7.34160151e-01\n",
            " 1.18091130e-01 1.16743057e-01 1.17012672e-01 1.17821515e-01\n",
            " 1.28336479e-01 1.25909949e-01 1.25909949e-01 1.26449178e-01\n",
            " 1.40469129e-01 1.38851442e-01 1.37233756e-01 1.38312214e-01\n",
            " 1.50444864e-01 1.50714478e-01 1.48827177e-01 1.50984093e-01\n",
            " 2.46697223e-01 2.52089512e-01 2.45618765e-01 2.52089512e-01\n",
            " 1.79832839e-01 1.78484767e-01 1.80641682e-01 1.81180911e-01\n",
            " 4.95281747e-01 4.91237530e-01 4.86114856e-01 4.93664060e-01\n",
            " 6.21461310e-01 5.94230251e-01 6.16069021e-01 6.41143165e-01\n",
            " 5.50822324e-01 5.21973578e-01 5.47856565e-01 5.66729577e-01\n",
            " 4.79644109e-01 4.52682664e-01 4.73982205e-01 4.91507145e-01\n",
            " 8.31760582e-01 8.05607981e-01 7.93744945e-01 8.38231329e-01\n",
            " 7.29846320e-01 7.10973308e-01 7.30115934e-01 7.09086007e-01\n",
            " 1.09733082e-01 1.11620383e-01 1.09463467e-01 1.11350768e-01\n",
            " 1.25370720e-01 1.25909949e-01 1.21865732e-01 1.26988407e-01\n",
            " 1.39390671e-01 1.40469129e-01 1.36424912e-01 1.39929900e-01\n",
            " 1.46400647e-01 1.45861418e-01 1.43434888e-01 1.46131033e-01\n",
            " 2.53167970e-01 2.47506066e-01 2.51011054e-01 2.46697223e-01\n",
            " 1.84416285e-01 1.89538959e-01 1.88460501e-01 1.88460501e-01\n",
            " 4.94472904e-01 4.93933675e-01 4.85845241e-01 4.92046374e-01\n",
            " 6.42221623e-01 6.22000539e-01 5.93691022e-01 6.20382853e-01\n",
            " 5.66729577e-01 5.51091939e-01 5.21703963e-01 5.51091939e-01\n",
            " 4.95012133e-01 4.82070639e-01 4.55109194e-01 4.81261796e-01\n",
            " 8.36344028e-01 8.27716366e-01 8.29334052e-01 7.94553788e-01\n",
            " 7.09086007e-01 7.33351308e-01 7.13130224e-01 7.34968994e-01\n",
            " 1.20248045e-01 1.17551901e-01 1.16743057e-01 1.18091130e-01\n",
            " 1.28606093e-01 1.26449178e-01 1.25640334e-01 2.07063899e-01\n",
            " 1.40199515e-01 1.38312214e-01 1.37503370e-01 1.38851442e-01\n",
            " 1.44782960e-01 1.43704503e-01 1.40469129e-01 1.43704503e-01\n",
            " 2.46697223e-01 2.52359126e-01 2.45618765e-01 2.52089512e-01\n",
            " 1.77406309e-01 1.81450526e-01 1.83068212e-01 1.78215152e-01\n",
            " 5.96926395e-01 5.96926395e-01 6.02857913e-01 6.03936371e-01\n",
            " 7.19061742e-01 7.40630898e-01 7.23375573e-01 7.00727959e-01\n",
            " 6.34402804e-01 6.48153141e-01 6.36020491e-01 6.10676732e-01\n",
            " 5.61606902e-01 5.73200324e-01 5.65111890e-01 5.44081963e-01\n",
            " 8.80560798e-01 9.17228363e-01 9.12644918e-01 8.90536533e-01\n",
            " 8.34456727e-01 8.12078727e-01 8.33108655e-01 8.20167161e-01\n",
            " 1.73092478e-01 1.74979779e-01 1.72553249e-01 1.73631707e-01\n",
            " 1.76867080e-01 1.79023996e-01 1.76867080e-01 1.78484767e-01\n",
            " 1.82528984e-01 1.86573200e-01 1.81180911e-01 1.80911297e-01\n",
            " 1.93043947e-01 1.93313562e-01 1.93043947e-01 1.93313562e-01\n",
            " 3.09787005e-01 3.05742788e-01 3.10326233e-01 3.06282017e-01\n",
            " 2.44809922e-01 2.45618765e-01 2.44540307e-01 2.46697223e-01\n",
            " 6.10946347e-01 6.08250202e-01 5.97735239e-01 6.09059046e-01\n",
            " 7.13130224e-01 7.34968994e-01 7.09625236e-01 6.91561068e-01\n",
            " 6.29010515e-01 6.43300081e-01 6.27123214e-01 6.03666757e-01\n",
            " 5.31949312e-01 5.38420059e-01 5.22243192e-01 5.10380156e-01\n",
            " 8.77864654e-01 9.21542195e-01 9.15610677e-01 8.88918846e-01\n",
            " 8.34187112e-01 8.16122944e-01 8.31760582e-01 8.20706390e-01\n",
            " 1.70935562e-01 1.73631707e-01 1.65812888e-01 1.69587490e-01\n",
            " 1.70396333e-01 1.69317875e-01 1.66891345e-01 1.74710164e-01\n",
            " 1.84416285e-01 1.84955514e-01 1.81180911e-01 1.87112429e-01\n",
            " 1.89808574e-01 1.86573200e-01 1.82259369e-01 1.88460501e-01\n",
            " 3.00080884e-01 2.91992451e-01 2.96845511e-01 2.99272041e-01\n",
            " 2.24588838e-01 2.33216500e-01 2.31598814e-01 2.31598814e-01\n",
            " 6.10946347e-01 6.07980588e-01 5.97465624e-01 6.09867889e-01\n",
            " 6.90752224e-01 7.11512537e-01 7.19061742e-01 7.08546778e-01\n",
            " 6.03666757e-01 6.30628202e-01 6.31437045e-01 6.21730925e-01\n",
            " 5.03909410e-01 5.24939337e-01 5.21973578e-01 5.16581289e-01\n",
            " 8.90536533e-01 8.71933136e-01 9.11296846e-01 9.11836074e-01\n",
            " 8.08304125e-01 8.24480992e-01 7.98867619e-01 8.22593691e-01\n",
            " 1.56106767e-01 1.62307900e-01 1.60959827e-01 1.53141008e-01\n",
            " 1.72553249e-01 1.69048261e-01 1.64195201e-01 1.66621731e-01\n",
            " 1.70665948e-01 1.73901321e-01 1.69857104e-01 1.64734430e-01\n",
            " 1.87651658e-01 1.88730116e-01 1.81450526e-01 1.84146670e-01\n",
            " 2.91722836e-01 2.94418981e-01 2.87139391e-01 2.92531680e-01\n",
            " 2.12995417e-01 2.24588838e-01 2.14073874e-01 2.15152332e-01\n",
            " 6.11755190e-01 6.07710973e-01 5.96926395e-01 6.09598274e-01\n",
            " 7.18792127e-01 6.92369911e-01 7.02615260e-01 7.35238609e-01\n",
            " 6.32515503e-01 6.04205985e-01 6.22000539e-01 6.43569695e-01\n",
            " 5.29792397e-01 5.10919385e-01 5.23591264e-01 5.38959288e-01\n",
            " 9.16419520e-01 8.85144244e-01 8.71393907e-01 9.19654894e-01\n",
            " 8.34187112e-01 8.20706390e-01 8.30412510e-01 8.15583715e-01\n",
            " 1.70126719e-01 1.69587490e-01 1.66352116e-01 1.73092478e-01\n",
            " 1.71205177e-01 1.74710164e-01 1.66082502e-01 1.69048261e-01\n",
            " 1.86033971e-01 1.87112429e-01 1.79563225e-01 1.84685899e-01\n",
            " 1.87112429e-01 1.88460501e-01 1.84685899e-01 1.86303586e-01\n",
            " 2.96036668e-01 2.87948234e-01 2.84443246e-01 2.86060933e-01\n",
            " 2.24319224e-01 2.31868428e-01 2.31868428e-01 2.32946886e-01\n",
            " 6.11485576e-01 6.08519817e-01 5.96926395e-01 6.09328660e-01\n",
            " 7.31194392e-01 7.09086007e-01 6.88056080e-01 7.13130224e-01\n",
            " 6.38986250e-01 6.22270154e-01 6.01240226e-01 6.30358587e-01\n",
            " 5.30870855e-01 5.16581289e-01 5.01213265e-01 5.25208951e-01\n",
            " 9.13453761e-01 9.11836074e-01 8.89727689e-01 8.80021569e-01\n",
            " 8.00215692e-01 8.25829064e-01 8.10191426e-01 8.27446751e-01\n",
            " 1.64734430e-01 1.52601779e-01 1.51792936e-01 1.62038285e-01\n",
            " 1.68778647e-01 1.66621731e-01 1.68239418e-01 1.68778647e-01\n",
            " 1.74170936e-01 1.64734430e-01 1.66352116e-01 1.74170936e-01\n",
            " 1.86573200e-01 1.83607441e-01 1.82528984e-01 1.88999730e-01\n",
            " 2.89026692e-01 2.92531680e-01 2.89835535e-01 2.94149366e-01\n",
            " 2.06794284e-01 2.15152332e-01 2.19735778e-01 2.11647344e-01\n",
            " 7.07737935e-01 7.07737935e-01 7.13939067e-01 7.15017525e-01\n",
            " 8.21245619e-01 8.42005932e-01 8.26368293e-01 8.07495282e-01\n",
            " 6.97762200e-01 7.11242923e-01 7.03154489e-01 6.81585333e-01\n",
            " 6.25775142e-01 6.44378539e-01 6.34133190e-01 6.10407118e-01\n",
            " 9.54165543e-01 9.87058506e-01 9.83823133e-01 9.61445133e-01\n",
            " 9.37449447e-01 9.15610677e-01 9.35562146e-01 9.28012941e-01\n",
            " 2.29441898e-01 2.31868428e-01 2.28902669e-01 2.30250741e-01\n",
            " 2.29172284e-01 2.31598814e-01 2.28902669e-01 2.31059585e-01\n",
            " 2.29172284e-01 2.34294958e-01 2.26745754e-01 2.26745754e-01\n",
            " 2.48584524e-01 2.48584524e-01 2.48584524e-01 2.48584524e-01\n",
            " 3.64249124e-01 3.59935293e-01 3.63170666e-01 3.61552979e-01\n",
            " 2.44809922e-01 3.00889728e-01 3.00080884e-01 3.00080884e-01\n",
            " 7.22836344e-01 7.19870585e-01 7.07198706e-01 7.20140200e-01\n",
            " 8.04259908e-01 8.23941763e-01 8.10191426e-01 8.00215692e-01\n",
            " 7.13669453e-01 7.20679428e-01 7.04232947e-01 6.91021839e-01\n",
            " 6.18495551e-01 6.33054732e-01 6.10137503e-01 5.93151793e-01\n",
            " 9.60636290e-01 1.00000000e+00 9.90293880e-01 9.68185495e-01\n",
            " 9.37449447e-01 9.20463737e-01 9.31787544e-01 9.27743327e-01\n",
            " 2.29981127e-01 2.27554597e-01 2.20275007e-01 2.28902669e-01\n",
            " 2.34294958e-01 2.33216500e-01 2.26206525e-01 2.34564573e-01\n",
            " 2.35643030e-01 2.34564573e-01 2.24319224e-01 2.32138043e-01\n",
            " 2.51550283e-01 2.50202211e-01 2.44809922e-01 2.50471825e-01\n",
            " 3.55621461e-01 3.46993799e-01 3.47533028e-01 3.53464546e-01\n",
            " 2.89835535e-01 3.02507414e-01 3.03316258e-01 3.00350499e-01\n",
            " 7.22836344e-01 7.19331356e-01 7.06929091e-01 7.20949043e-01\n",
            " 7.61121596e-01 7.80264222e-01 7.82960367e-01 7.62469668e-01\n",
            " 6.81315719e-01 7.03963332e-01 7.02076031e-01 6.96414128e-01\n",
            " 6.10946347e-01 6.37907792e-01 6.32515503e-01 6.17417094e-01\n",
            " 9.50390941e-01 9.51469399e-01 9.83553518e-01 9.72499326e-01\n",
            " 8.98085737e-01 9.12105689e-01 8.86492316e-01 9.07791858e-01\n",
            " 2.14613103e-01 2.21353465e-01 2.18118091e-01 2.09490429e-01\n",
            " 2.17309248e-01 2.16230790e-01 2.13804260e-01 2.11647344e-01\n",
            " 2.24049609e-01 2.30520356e-01 2.24319224e-01 2.17578862e-01\n",
            " 2.46697223e-01 2.47236452e-01 2.34834187e-01 2.39687247e-01\n",
            " 3.36209221e-01 3.42410353e-01 3.36209221e-01 3.35669992e-01\n",
            " 2.82016716e-01 2.78781343e-01 2.84173632e-01 2.89296306e-01\n",
            " 7.23645187e-01 7.18792127e-01 7.06389862e-01 7.20679428e-01\n",
            " 8.20706390e-01 8.01294149e-01 7.92396872e-01 8.23941763e-01\n",
            " 7.10973308e-01 6.91561068e-01 7.04772176e-01 7.20949043e-01\n",
            " 6.17956322e-01 5.94230251e-01 6.10137503e-01 6.33863575e-01\n",
            " 9.91102723e-01 9.63062820e-01 9.52008628e-01 9.96225398e-01\n",
            " 9.34753303e-01 9.27204098e-01 9.32596387e-01 9.19385279e-01\n",
            " 2.25397681e-01 2.28363440e-01 2.24049609e-01 2.27284982e-01\n",
            " 2.31598814e-01 2.34294958e-01 2.28093826e-01 2.33216500e-01\n",
            " 2.29981127e-01 2.32138043e-01 2.29711513e-01 2.34564573e-01\n",
            " 2.51550283e-01 2.50202211e-01 2.44809922e-01 2.50471825e-01\n",
            " 3.51846859e-01 3.53734160e-01 3.50229172e-01 3.45915341e-01\n",
            " 2.81207873e-01 2.93610138e-01 2.94688595e-01 2.90105150e-01\n",
            " 7.23375573e-01 7.20140200e-01 7.06389862e-01 7.20409814e-01\n",
            " 7.99676463e-01 7.81881909e-01 7.74063090e-01 7.88083041e-01\n",
            " 7.09086007e-01 6.95605284e-01 6.77001887e-01 7.02345646e-01\n",
            " 6.46805069e-01 6.33324346e-01 6.21461310e-01 6.44648153e-01\n",
            " 9.73308169e-01 9.69263953e-01 9.45807495e-01 9.37719062e-01\n",
            " 8.84605015e-01 9.08870315e-01 8.97816123e-01 9.12644918e-01\n",
            " 2.26476139e-01 2.20544621e-01 2.20005392e-01 2.25936910e-01\n",
            " 1.73092478e-01 1.78484767e-01 1.81989755e-01 1.72822863e-01\n",
            " 2.18657320e-01 2.22971151e-01 2.25397681e-01 2.21083850e-01\n",
            " 2.41304934e-01 2.40226476e-01 2.40226476e-01 2.46697223e-01\n",
            " 3.14909679e-01 3.28390402e-01 3.27581558e-01 3.20032354e-01\n",
            " 2.83904017e-01 2.81207873e-01 2.82286331e-01 2.86600162e-01]\n"
          ],
          "name": "stdout"
        }
      ]
    },
    {
      "cell_type": "markdown",
      "metadata": {
        "id": "LC3l_OnEafci"
      },
      "source": [
        "Split the standardized data into train and test sets"
      ]
    },
    {
      "cell_type": "code",
      "metadata": {
        "id": "4rAx-u25XLST"
      },
      "source": [
        "#split the data set into train and test \n",
        "from sklearn.model_selection import train_test_split\n",
        "\n",
        "train_data_set, test_data_set, train_target_set, test_target_set = train_test_split(data_arr, target_set, test_size=0.30)"
      ],
      "execution_count": null,
      "outputs": []
    },
    {
      "cell_type": "markdown",
      "metadata": {
        "id": "OlpwHkpJaxvU"
      },
      "source": [
        "Define Hyperparameters"
      ]
    },
    {
      "cell_type": "code",
      "metadata": {
        "colab": {
          "base_uri": "https://localhost:8080/"
        },
        "id": "xV-YZWpXNbgd",
        "outputId": "c7871804-1579-4dfa-fa4e-3686678b9214"
      },
      "source": [
        "#hyperparamters\n",
        "learning_rate = 0.001\n",
        "initial_theta = [] #an empty array at the beginning\n",
        "for i in range(9):\n",
        "  initial_theta.append(random.uniform(0.0, 100.0))\n",
        "num_iterations = 1000\n",
        "initial_theta"
      ],
      "execution_count": null,
      "outputs": [
        {
          "output_type": "execute_result",
          "data": {
            "text/plain": [
              "[71.93383923120633,\n",
              " 13.43110087722289,\n",
              " 76.41197879102913,\n",
              " 42.555818595332504,\n",
              " 75.29806157338766,\n",
              " 71.42535704572872,\n",
              " 38.29503095713537,\n",
              " 35.71024396174069,\n",
              " 66.7205216628756]"
            ]
          },
          "metadata": {
            "tags": []
          },
          "execution_count": 274
        }
      ]
    },
    {
      "cell_type": "markdown",
      "metadata": {
        "id": "1Y09mtGBa-7x"
      },
      "source": [
        "Define the cost function"
      ]
    },
    {
      "cell_type": "code",
      "metadata": {
        "id": "JHhX-XM4TSIE"
      },
      "source": [
        "def compute_cost(theta_set, data_in, target_set):\n",
        "    total_cost = 0\n",
        "    \n",
        "    # number of datapoints in training data\n",
        "    N = float(len(target_set))\n",
        "    \n",
        "    # Compute sum of squared errors\n",
        "    for i in range(len(target_set)):\n",
        "        estim_value = theta_set[0]\n",
        "        for j in range (1,len(theta_set)):\n",
        "          estim_value += data_in[i, j-1]*theta_set[j]\n",
        "        total_cost += (target_set[i] - estim_value) ** 2\n",
        "        \n",
        "    # Return average of squared error\n",
        "    return total_cost/(2*N)"
      ],
      "execution_count": null,
      "outputs": []
    },
    {
      "cell_type": "markdown",
      "metadata": {
        "id": "8v8bGL4_bCPJ"
      },
      "source": [
        "Define Gradient Descent Functions"
      ]
    },
    {
      "cell_type": "code",
      "metadata": {
        "id": "Z0FtFBXlbMWA"
      },
      "source": [
        "def step_gradient(current_theta, data_in, target_set, alpha):\n",
        "    \n",
        "    theta_gradient = np.zeros(9)\n",
        "    N = float(len(target_set))\n",
        "\n",
        "    # Calculate Gradient\n",
        "    for i in range(len(target_set)):\n",
        "        estim_value = current_theta[0]\n",
        "        for j in range (1,len(current_theta)):\n",
        "          estim_value += data_in[i, j-1]*current_theta[j]\n",
        "        theta_gradient[0] += - (2/N) * (target_set[i] - estim_value)\n",
        "        for j in range (1, len(theta_gradient)):\n",
        "          theta_gradient[j] += - (2/N) * data_in[i, j-1] * (target_set[i] - estim_value)\n",
        "    \n",
        "    # Update current theta\n",
        "    updated_theta = np.zeros(9)\n",
        "    for j in range (0,len(current_theta)):\n",
        "      updated_theta[j] = current_theta[j] - alpha * theta_gradient[j]\n",
        "\n",
        "    #Return updated parameters\n",
        "    return updated_theta"
      ],
      "execution_count": null,
      "outputs": []
    },
    {
      "cell_type": "code",
      "metadata": {
        "id": "K02RWVj1jV0m"
      },
      "source": [
        "def gradient_descent(data_in, target_set, starting_theta, learning_rate, num_iterations):\n",
        "    \n",
        "    # initial values\n",
        "    theta_set = []\n",
        "    for i in starting_theta:\n",
        "        theta_set.append(i)\n",
        "    theta_set = np.array(theta_set)\n",
        "\n",
        "    # to store the cost after each iteration\n",
        "    cost_graph = []\n",
        "    \n",
        "    # to store the value of theta parameters after each iteration \n",
        "    theta_progress = [starting_theta]\n",
        "    \n",
        "    # For every iteration, optimize b, m and compute its cost\n",
        "    for i in range(num_iterations):\n",
        "        cost_graph.append(compute_cost(theta_set, data_in, target_set))\n",
        "        theta_set = step_gradient(theta_set, data_in, target_set, learning_rate)\n",
        "        theta_progress.append(theta_set)\n",
        "        \n",
        "    return [theta_set, cost_graph, theta_progress]"
      ],
      "execution_count": null,
      "outputs": []
    },
    {
      "cell_type": "markdown",
      "metadata": {
        "id": "4c2JCuZYbUB8"
      },
      "source": [
        "Run gradient_descent() to get optimized parameters b and m"
      ]
    },
    {
      "cell_type": "code",
      "metadata": {
        "colab": {
          "base_uri": "https://localhost:8080/"
        },
        "id": "zVs_9JL-sgs4",
        "outputId": "15f2bf7e-dbae-4e03-cc82-2ae67c6f4f41"
      },
      "source": [
        "theta_set, cost_graph, theta_progress = gradient_descent(train_data_set, train_target_set, initial_theta, learning_rate, num_iterations)\n",
        "\n",
        "#Print optimized parameters\n",
        "for i in range(len(theta_set)):\n",
        "  print(\"Optimized theta%d: %.4f\" % (i, theta_set[i]))\n",
        "\n",
        "#Print error with optimized parameters\n",
        "print ('Minimized cost:', compute_cost(theta_set, train_data_set, train_target_set))"
      ],
      "execution_count": null,
      "outputs": [
        {
          "output_type": "stream",
          "text": [
            "Optimized theta0: -20.5081\n",
            "Optimized theta1: -18.3263\n",
            "Optimized theta2: 21.9357\n",
            "Optimized theta3: -0.4742\n",
            "Optimized theta4: 15.5881\n",
            "Optimized theta5: 28.8444\n",
            "Optimized theta6: -6.8794\n",
            "Optimized theta7: -16.5465\n",
            "Optimized theta8: 11.6209\n",
            "Minimized cost: 49.675488932742994\n"
          ],
          "name": "stdout"
        }
      ]
    },
    {
      "cell_type": "markdown",
      "metadata": {
        "id": "SmSMgITzbfrl"
      },
      "source": [
        "Plotting the cost per iterations"
      ]
    },
    {
      "cell_type": "code",
      "metadata": {
        "colab": {
          "base_uri": "https://localhost:8080/",
          "height": 295
        },
        "id": "Ntv9lfQdbg2L",
        "outputId": "ce7c1abd-93ba-458d-b012-4ce556967800"
      },
      "source": [
        "plt.plot(cost_graph)\n",
        "plt.xlabel('No. of iterations')\n",
        "plt.ylabel('Cost')\n",
        "plt.title('Cost per iteration')\n",
        "plt.show()"
      ],
      "execution_count": null,
      "outputs": [
        {
          "output_type": "display_data",
          "data": {
            "image/png": "[encoded data removed]",
            "text/plain": [
              "<Figure size 432x288 with 1 Axes>"
            ]
          },
          "metadata": {
            "tags": [],
            "needs_background": "light"
          }
        }
      ]
    },
    {
      "cell_type": "markdown",
      "metadata": {
        "id": "WZNMPNxnbl0z"
      },
      "source": [
        "Prediction.."
      ]
    },
    {
      "cell_type": "code",
      "metadata": {
        "colab": {
          "base_uri": "https://localhost:8080/"
        },
        "id": "nPZYoQEObmu_",
        "outputId": "a4ba1337-03d0-4cf0-bed3-35fcd27becfb"
      },
      "source": [
        "def estim_values(theta_set, data_in):\n",
        "\n",
        "  estim_target = []\n",
        "\n",
        "  for i in range(len(data_in)):\n",
        "    estim_value = theta_set[0]\n",
        "    for j in range (1,len(theta_set)):\n",
        "      estim_value += data_in[i, j-1]*theta_set[j]\n",
        "    estim_target.append(estim_value)\n",
        "\n",
        "  return estim_target \n",
        "\n",
        "estim_target = estim_values(theta_set, test_data_set)\n",
        "\n",
        "print(estim_target)"
      ],
      "execution_count": null,
      "outputs": [
        {
          "output_type": "stream",
          "text": [
            "[-1.376415977588989, -14.169070961602024, 2.55757590640338, -7.518155602520521, -5.193975786748748, -1.7776876969308066, 13.97773133523787, 17.943915905313553, -7.354676219200393, -8.682642570236098, 1.737558705378122, 4.104321973332359, -0.5555798289613509, 14.926577822669518, -1.3453746961566893, -7.982625196156718, 7.165062455761241, -10.037971394474505, 1.7475223791342724, -2.6412957270400614, -10.642093959243784, -20.40504974226024, -1.4074572590212924, -9.105774751635188, 3.580226222920208, 2.5886171878356814, -0.21625597856339773, 11.120233886310753, -0.2926917358177743, 5.479655301672487, -5.395224830192711, 0.6140766928509969, 5.97432832627274, 14.018230897006735, 4.634000856884493, -4.437156460017872, -4.8789688044967185, -1.344259384726909, 1.4651351753085553, -8.51243480822444, 16.582974013813395, -7.100525432266858, 1.8799604810220991, -4.600635843337999, -0.1279859849515379, 6.7514296180668785, 12.179265825498653, 4.943838285039756, 15.317090225642293, -2.5858302701572455, -10.069012675906801, 1.0320393201533165, -4.039784949837978, 11.854295169490474, 11.996696945134449, 5.52015486344135, -10.244722449063888, 3.5880659476363634, -11.906973708694855, 4.204140296793874, -6.389504035896626, -8.620560007371495, -0.04540005609135633, 13.357638836634607, -0.23060917295317118, 3.619107229068666, 0.22356428987822063, 3.789314991080328, -13.432510294944917, -10.125569806414987, -5.112370475397606, 4.073280691900059, 3.6501485105009657, -6.29638019159972, 11.663009799802659, 11.751339524440185, -2.112976644246098, -24.316848707146676, -6.157213711020365, -3.0400037329886356, 21.38286124428884, 1.62993889965065, -10.100053957339107, -3.0184207318928973, 1.1744410957972917, 3.1028512033726736, 6.36641922623953, 15.02639614613103, -9.852299092048444, 3.335141528248939, -7.289655358583609, -4.003241657260247, -26.57894596005385, -0.014358774659054774, -1.7411444043530793, -3.585279029957931, -0.7328444613080478, -5.373641829096971, 13.369999954987152, 5.873364757259681, 4.809841358557165, 11.653551519466099, 2.504341705865148, -8.846233226265975, 13.898587164913916, 3.164933766237276, 0.9699567572887133, 14.895536541237215, -7.775874141567332, -8.750227144246129, 16.676940443517083, -4.457415120091641, -5.482735607227859, -6.924815659109773, 20.91922950112089, 10.699771875531049, -5.256058349613349, -9.167857314499788, 14.95761910410182, 3.901494432894383, 5.05519877925143, -2.1440179256783987, -1.746646415498505, -5.34260054766467, -11.139371760605444, 12.853743929291157, 4.009619632041444, 8.08489798024801, -6.363964765609751, -21.9616276099426, 8.053856698815709, 4.370021090115547, 15.619736089541778, -6.843677498728015, 5.5972387811561095, -2.616871551589548, 2.1341112679556336, -1.2610992141861566, -12.45527505454318, 5.2067263781833315, 11.07686142064768, 19.05868142851707, -0.7252821975534243, 5.448614020240186, -3.071045014420937, 8.647196642226458, 7.379378595023204, -25.022368092371483, -3.731637074793065, -7.131566713699159, -2.900837252409275, -11.429954567406961, 7.236976819379229, -9.613835174355382, 7.8348763988765615, 2.062529361386302, 12.53873694703913, -1.4384985404535922, -14.686331026018053, -12.41870834075446, -4.776345616495085, 15.17792374506293, -20.374008460827937, -17.344309259831356, 12.602398006897744, -12.630984827700265, 8.298508142044513, -2.7373578690891467, -10.944739823143268, 5.48911358200905, 3.3251778544927886, 0.753243173430354, -4.9344342613795344, 18.60450796568568, -5.03049640342862, -6.024775609132536, 10.065932370351431, -3.008962451556334, 14.147433703829947, -2.131656807325853, 17.18867507557669, -7.559160557708972, -8.688144581381525, -0.7779064800814641, -0.5766574366375004, 6.0514122439875, 9.5301153537187, -0.5260934067186609, -2.4521658007233107, 5.427031019144447, 8.406633341191576, 9.391454266558927, 1.143399814364991, 3.246539077588422, -0.38213677188507233, -2.3385385904308285, 10.668730594098745, 8.437674622623875, -0.26165045438547274, 6.416140670751587, 8.375592059759274, 6.216215968329594, -1.5709366423414188, 7.090618774544092, -24.254766144282076, -4.631677124770301, 14.008772616670175, 2.0935706428186016, -10.836614623996212, 9.458200990100712, -11.170413042037747, -1.8249527353542145, -18.142952489353068, 4.2351815782261735, 10.983737576350777, -15.629642747264544, 5.943287044840439, 7.75121083491622, 7.076732731123715, 13.956148334142132, 9.855086009726879, 12.086141981201749, 12.390112186123206, 2.2787797596804173, 9.11215272641638, -2.100615525893552, -3.637397919066382, 11.014778857783076, -14.717372307450349, -7.688363364532182, 1.567856336786047]\n"
          ],
          "name": "stdout"
        }
      ]
    }
  ]
}